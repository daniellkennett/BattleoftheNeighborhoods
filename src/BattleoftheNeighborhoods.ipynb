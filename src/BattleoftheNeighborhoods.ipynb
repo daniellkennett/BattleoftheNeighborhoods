{
 "cells": [
  {
   "cell_type": "markdown",
   "id": "ec5071d4",
   "metadata": {},
   "source": [
    "### Battle of the Neighborhoods\n",
    "\n",
    "## This Notebook will be used for the IBM Data Science certificate\n"
   ]
  },
  {
   "cell_type": "code",
   "execution_count": 1,
   "id": "61822e7c",
   "metadata": {},
   "outputs": [
    {
     "name": "stdout",
     "output_type": "stream",
     "text": [
      "Hello Capstone Project Course!\n"
     ]
    }
   ],
   "source": [
    "import numpy as np\n",
    "import pandas as pd\n",
    "print('Hello Capstone Project Course!')"
   ]
  },
  {
   "cell_type": "code",
   "execution_count": null,
   "id": "04537ad4",
   "metadata": {},
   "outputs": [],
   "source": []
  }
 ],
 "metadata": {
  "kernelspec": {
   "display_name": "Python 3",
   "language": "python",
   "name": "python3"
  },
  "language_info": {
   "codemirror_mode": {
    "name": "ipython",
    "version": 3
   },
   "file_extension": ".py",
   "mimetype": "text/x-python",
   "name": "python",
   "nbconvert_exporter": "python",
   "pygments_lexer": "ipython3",
   "version": "3.7.7"
  }
 },
 "nbformat": 4,
 "nbformat_minor": 5
}
